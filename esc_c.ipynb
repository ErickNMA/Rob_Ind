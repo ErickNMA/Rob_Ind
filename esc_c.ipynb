{
 "cells": [
  {
   "cell_type": "code",
   "execution_count": 1,
   "metadata": {},
   "outputs": [],
   "source": [
    "import numpy as np\n",
    "import sympy as sp"
   ]
  },
  {
   "cell_type": "code",
   "execution_count": 2,
   "metadata": {},
   "outputs": [
    {
     "data": {
      "text/latex": [
       "$\\displaystyle \\left[\\begin{matrix}1.0 & 0 & 0 & 0 & 0 & 0 & -20.0\\\\0 & 1.0 & 0 & 0 & 0 & 0 & 0\\\\0 & 0 & 2.0 & 0 & 0 & 0 & 0\\\\1.0 & 5.0 & 25.0 & 125.0 & 625.0 & 3125.0 & 80.0\\\\0 & 1.0 & 10.0 & 75.0 & 500.0 & 3125.0 & 0\\\\0 & 0 & 2.0 & 30.0 & 300.0 & 2500.0 & 0\\end{matrix}\\right]$"
      ],
      "text/plain": [
       "Matrix([\n",
       "[1.0,   0,    0,     0,     0,      0, -20.0],\n",
       "[  0, 1.0,    0,     0,     0,      0,     0],\n",
       "[  0,   0,  2.0,     0,     0,      0,     0],\n",
       "[1.0, 5.0, 25.0, 125.0, 625.0, 3125.0,  80.0],\n",
       "[  0, 1.0, 10.0,  75.0, 500.0, 3125.0,     0],\n",
       "[  0,   0,  2.0,  30.0, 300.0, 2500.0,     0]])"
      ]
     },
     "execution_count": 2,
     "metadata": {},
     "output_type": "execute_result"
    }
   ],
   "source": [
    "sys = np.array([\n",
    "    [1, 0, 0, 0, 0, 0, -20],\n",
    "    [0, 1, 0, 0, 0, 0, 0],\n",
    "    [0, 0, 2, 0, 0, 0, 0],\n",
    "    [1, 5, 25, 125, 625, 3125, 80],\n",
    "    [0, 1, 10, 75, 500, 3125, 0],\n",
    "    [0, 0, 2, 30, 300, 2500, 0]\n",
    "], dtype=float)\n",
    "\n",
    "sp.Matrix(sys)"
   ]
  },
  {
   "cell_type": "code",
   "execution_count": 3,
   "metadata": {},
   "outputs": [
    {
     "data": {
      "text/latex": [
       "$\\displaystyle \\left[\\begin{matrix}1.0 & 0 & 0 & 0 & 0 & 0 & -20.0\\\\0 & 1.0 & 0 & 0 & 0 & 0 & 0\\\\0 & 0 & 2.0 & 0 & 0 & 0 & 0\\\\0 & 5.0 & 25.0 & 125.0 & 625.0 & 3125.0 & 100.0\\\\0 & 1.0 & 10.0 & 75.0 & 500.0 & 3125.0 & 0\\\\0 & 0 & 2.0 & 30.0 & 300.0 & 2500.0 & 0\\end{matrix}\\right]$"
      ],
      "text/plain": [
       "Matrix([\n",
       "[1.0,   0,    0,     0,     0,      0, -20.0],\n",
       "[  0, 1.0,    0,     0,     0,      0,     0],\n",
       "[  0,   0,  2.0,     0,     0,      0,     0],\n",
       "[  0, 5.0, 25.0, 125.0, 625.0, 3125.0, 100.0],\n",
       "[  0, 1.0, 10.0,  75.0, 500.0, 3125.0,     0],\n",
       "[  0,   0,  2.0,  30.0, 300.0, 2500.0,     0]])"
      ]
     },
     "execution_count": 3,
     "metadata": {},
     "output_type": "execute_result"
    }
   ],
   "source": [
    "ref = 0\n",
    "\n",
    "#Torna a referência unitária:\n",
    "k = sys[ref][ref]\n",
    "for i in range(len(sys[0])):\n",
    "    sys[ref][i] = (sys[ref][i]/k)\n",
    "\n",
    "#Anula uma coluna de elementos com base na referência:\n",
    "for i in range(len(sys)):\n",
    "    if(i != ref):\n",
    "        k = sys[i][ref]\n",
    "        for j in range(len(sys[0])):\n",
    "            sys[i][j] = (sys[i][j] - (k*sys[ref][j]))\n",
    "\n",
    "sp.Matrix(sys)"
   ]
  },
  {
   "cell_type": "code",
   "execution_count": 4,
   "metadata": {},
   "outputs": [
    {
     "data": {
      "text/latex": [
       "$\\displaystyle \\left[\\begin{matrix}1.0 & 0 & 0 & 0 & 0 & 0 & -20.0\\\\0 & 1.0 & 0 & 0 & 0 & 0 & 0\\\\0 & 0 & 2.0 & 0 & 0 & 0 & 0\\\\0 & 0 & 25.0 & 125.0 & 625.0 & 3125.0 & 100.0\\\\0 & 0 & 10.0 & 75.0 & 500.0 & 3125.0 & 0\\\\0 & 0 & 2.0 & 30.0 & 300.0 & 2500.0 & 0\\end{matrix}\\right]$"
      ],
      "text/plain": [
       "Matrix([\n",
       "[1.0,   0,    0,     0,     0,      0, -20.0],\n",
       "[  0, 1.0,    0,     0,     0,      0,     0],\n",
       "[  0,   0,  2.0,     0,     0,      0,     0],\n",
       "[  0,   0, 25.0, 125.0, 625.0, 3125.0, 100.0],\n",
       "[  0,   0, 10.0,  75.0, 500.0, 3125.0,     0],\n",
       "[  0,   0,  2.0,  30.0, 300.0, 2500.0,     0]])"
      ]
     },
     "execution_count": 4,
     "metadata": {},
     "output_type": "execute_result"
    }
   ],
   "source": [
    "ref = 1\n",
    "\n",
    "#Torna a referência unitária:\n",
    "k = sys[ref][ref]\n",
    "for i in range(len(sys[0])):\n",
    "    sys[ref][i] = (sys[ref][i]/k)\n",
    "\n",
    "#Anula uma coluna de elementos com base na referência:\n",
    "for i in range(len(sys)):\n",
    "    if(i != ref):\n",
    "        k = sys[i][ref]\n",
    "        for j in range(len(sys[0])):\n",
    "            sys[i][j] = (sys[i][j] - (k*sys[ref][j]))\n",
    "\n",
    "sp.Matrix(sys)"
   ]
  },
  {
   "cell_type": "code",
   "execution_count": 5,
   "metadata": {},
   "outputs": [
    {
     "data": {
      "text/latex": [
       "$\\displaystyle \\left[\\begin{matrix}1.0 & 0 & 0 & 0 & 0 & 0 & -20.0\\\\0 & 1.0 & 0 & 0 & 0 & 0 & 0\\\\0 & 0 & 1.0 & 0 & 0 & 0 & 0\\\\0 & 0 & 0 & 125.0 & 625.0 & 3125.0 & 100.0\\\\0 & 0 & 0 & 75.0 & 500.0 & 3125.0 & 0\\\\0 & 0 & 0 & 30.0 & 300.0 & 2500.0 & 0\\end{matrix}\\right]$"
      ],
      "text/plain": [
       "Matrix([\n",
       "[1.0,   0,   0,     0,     0,      0, -20.0],\n",
       "[  0, 1.0,   0,     0,     0,      0,     0],\n",
       "[  0,   0, 1.0,     0,     0,      0,     0],\n",
       "[  0,   0,   0, 125.0, 625.0, 3125.0, 100.0],\n",
       "[  0,   0,   0,  75.0, 500.0, 3125.0,     0],\n",
       "[  0,   0,   0,  30.0, 300.0, 2500.0,     0]])"
      ]
     },
     "execution_count": 5,
     "metadata": {},
     "output_type": "execute_result"
    }
   ],
   "source": [
    "ref = 2\n",
    "\n",
    "#Torna a referência unitária:\n",
    "k = sys[ref][ref]\n",
    "for i in range(len(sys[0])):\n",
    "    sys[ref][i] = (sys[ref][i]/k)\n",
    "\n",
    "#Anula uma coluna de elementos com base na referência:\n",
    "for i in range(len(sys)):\n",
    "    if(i != ref):\n",
    "        k = sys[i][ref]\n",
    "        for j in range(len(sys[0])):\n",
    "            sys[i][j] = (sys[i][j] - (k*sys[ref][j]))\n",
    "\n",
    "sp.Matrix(sys)"
   ]
  },
  {
   "cell_type": "code",
   "execution_count": 6,
   "metadata": {},
   "outputs": [
    {
     "data": {
      "text/latex": [
       "$\\displaystyle \\left[\\begin{matrix}1.0 & 0 & 0 & 0 & 0 & 0 & -20.0\\\\0 & 1.0 & 0 & 0 & 0 & 0 & 0\\\\0 & 0 & 1.0 & 0 & 0 & 0 & 0\\\\0 & 0 & 0 & 1.0 & 5.0 & 25.0 & 0.8\\\\0 & 0 & 0 & 0 & 125.0 & 1250.0 & -60.0\\\\0 & 0 & 0 & 0 & 150.0 & 1750.0 & -24.0\\end{matrix}\\right]$"
      ],
      "text/plain": [
       "Matrix([\n",
       "[1.0,   0,   0,   0,     0,      0, -20.0],\n",
       "[  0, 1.0,   0,   0,     0,      0,     0],\n",
       "[  0,   0, 1.0,   0,     0,      0,     0],\n",
       "[  0,   0,   0, 1.0,   5.0,   25.0,   0.8],\n",
       "[  0,   0,   0,   0, 125.0, 1250.0, -60.0],\n",
       "[  0,   0,   0,   0, 150.0, 1750.0, -24.0]])"
      ]
     },
     "execution_count": 6,
     "metadata": {},
     "output_type": "execute_result"
    }
   ],
   "source": [
    "ref = 3\n",
    "\n",
    "#Torna a referência unitária:\n",
    "k = sys[ref][ref]\n",
    "for i in range(len(sys[0])):\n",
    "    sys[ref][i] = (sys[ref][i]/k)\n",
    "\n",
    "#Anula uma coluna de elementos com base na referência:\n",
    "for i in range(len(sys)):\n",
    "    if(i != ref):\n",
    "        k = sys[i][ref]\n",
    "        for j in range(len(sys[0])):\n",
    "            sys[i][j] = (sys[i][j] - (k*sys[ref][j]))\n",
    "\n",
    "sp.Matrix(sys)"
   ]
  },
  {
   "cell_type": "code",
   "execution_count": 7,
   "metadata": {},
   "outputs": [
    {
     "data": {
      "text/latex": [
       "$\\displaystyle \\left[\\begin{matrix}1.0 & 0 & 0 & 0 & 0 & 0 & -20.0\\\\0 & 1.0 & 0 & 0 & 0 & 0 & 0\\\\0 & 0 & 1.0 & 0 & 0 & 0 & 0\\\\0 & 0 & 0 & 1.0 & 0 & -25.0 & 3.2\\\\0 & 0 & 0 & 0 & 1.0 & 10.0 & -0.48\\\\0 & 0 & 0 & 0 & 0 & 250.0 & 48.0\\end{matrix}\\right]$"
      ],
      "text/plain": [
       "Matrix([\n",
       "[1.0,   0,   0,   0,   0,     0, -20.0],\n",
       "[  0, 1.0,   0,   0,   0,     0,     0],\n",
       "[  0,   0, 1.0,   0,   0,     0,     0],\n",
       "[  0,   0,   0, 1.0,   0, -25.0,   3.2],\n",
       "[  0,   0,   0,   0, 1.0,  10.0, -0.48],\n",
       "[  0,   0,   0,   0,   0, 250.0,  48.0]])"
      ]
     },
     "execution_count": 7,
     "metadata": {},
     "output_type": "execute_result"
    }
   ],
   "source": [
    "ref = 4\n",
    "\n",
    "#Torna a referência unitária:\n",
    "k = sys[ref][ref]\n",
    "for i in range(len(sys[0])):\n",
    "    sys[ref][i] = (sys[ref][i]/k)\n",
    "\n",
    "#Anula uma coluna de elementos com base na referência:\n",
    "for i in range(len(sys)):\n",
    "    if(i != ref):\n",
    "        k = sys[i][ref]\n",
    "        for j in range(len(sys[0])):\n",
    "            sys[i][j] = (sys[i][j] - (k*sys[ref][j]))\n",
    "\n",
    "sp.Matrix(sys)"
   ]
  },
  {
   "cell_type": "code",
   "execution_count": 8,
   "metadata": {},
   "outputs": [
    {
     "data": {
      "text/latex": [
       "$\\displaystyle \\left[\\begin{matrix}1.0 & 0 & 0 & 0 & 0 & 0 & -20.0\\\\0 & 1.0 & 0 & 0 & 0 & 0 & 0\\\\0 & 0 & 1.0 & 0 & 0 & 0 & 0\\\\0 & 0 & 0 & 1.0 & 0 & 0 & 8.0\\\\0 & 0 & 0 & 0 & 1.0 & 0 & -2.4\\\\0 & 0 & 0 & 0 & 0 & 1.0 & 0.192\\end{matrix}\\right]$"
      ],
      "text/plain": [
       "Matrix([\n",
       "[1.0,   0,   0,   0,   0,   0, -20.0],\n",
       "[  0, 1.0,   0,   0,   0,   0,     0],\n",
       "[  0,   0, 1.0,   0,   0,   0,     0],\n",
       "[  0,   0,   0, 1.0,   0,   0,   8.0],\n",
       "[  0,   0,   0,   0, 1.0,   0,  -2.4],\n",
       "[  0,   0,   0,   0,   0, 1.0, 0.192]])"
      ]
     },
     "execution_count": 8,
     "metadata": {},
     "output_type": "execute_result"
    }
   ],
   "source": [
    "ref = 5\n",
    "\n",
    "#Torna a referência unitária:\n",
    "k = sys[ref][ref]\n",
    "for i in range(len(sys[0])):\n",
    "    sys[ref][i] = (sys[ref][i]/k)\n",
    "\n",
    "#Anula uma coluna de elementos com base na referência:\n",
    "for i in range(len(sys)):\n",
    "    if(i != ref):\n",
    "        k = sys[i][ref]\n",
    "        for j in range(len(sys[0])):\n",
    "            sys[i][j] = (sys[i][j] - (k*sys[ref][j]))\n",
    "\n",
    "sp.Matrix(sys)"
   ]
  }
 ],
 "metadata": {
  "kernelspec": {
   "display_name": "Python 3",
   "language": "python",
   "name": "python3"
  },
  "language_info": {
   "codemirror_mode": {
    "name": "ipython",
    "version": 3
   },
   "file_extension": ".py",
   "mimetype": "text/x-python",
   "name": "python",
   "nbconvert_exporter": "python",
   "pygments_lexer": "ipython3",
   "version": "3.10.12"
  },
  "orig_nbformat": 4
 },
 "nbformat": 4,
 "nbformat_minor": 2
}
